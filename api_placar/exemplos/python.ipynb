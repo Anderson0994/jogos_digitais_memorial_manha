{
 "cells": [
  {
   "cell_type": "code",
   "execution_count": 1,
   "metadata": {},
   "outputs": [
    {
     "name": "stdout",
     "output_type": "stream",
     "text": [
      "User: edson.melo\n",
      "Score: 110\n",
      "\n"
     ]
    }
   ],
   "source": [
    "import pandas as pd\n",
    "import requests as rs\n",
    "import json\n",
    "\n",
    "url = \"http://apijogosdigitais.atwebpages.com/api/game.php\"\n",
    "\n",
    "pay_load = {'type': 'ranking_general'}\n",
    "\n",
    "headers = {'Content-type': 'application/json', 'Accept': 'text/plain'}\n",
    "\n",
    "dados = rs.post(url, data=json.dumps(pay_load), headers=headers)\n",
    "\n",
    "dicionario = json.loads(dados.text)\n",
    "\n",
    "for score in dicionario:\n",
    "    print('User:', str(score.get('User')))\n",
    "    print('Score:', str(score.get('Score')))\n",
    "    print(\"\")\n"
   ]
  },
  {
   "cell_type": "code",
   "execution_count": null,
   "metadata": {},
   "outputs": [],
   "source": []
  }
 ],
 "metadata": {
  "kernelspec": {
   "display_name": "Python 3",
   "language": "python",
   "name": "python3"
  },
  "language_info": {
   "codemirror_mode": {
    "name": "ipython",
    "version": 3
   },
   "file_extension": ".py",
   "mimetype": "text/x-python",
   "name": "python",
   "nbconvert_exporter": "python",
   "pygments_lexer": "ipython3",
   "version": "3.6.9"
  }
 },
 "nbformat": 4,
 "nbformat_minor": 4
}
