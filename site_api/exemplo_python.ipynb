{
 "cells": [
  {
   "cell_type": "code",
   "execution_count": null,
   "metadata": {},
   "outputs": [],
   "source": [
    "import pandas as pd\n",
    "import requests as r\n",
    "import json\n",
    "\n",
    "url = \"colocar a URL da API aqui\"\n",
    "\n",
    "pay_load = {'type': 'ranking_general'}\n",
    "\n",
    "headers = {'Content-type': 'application/json', 'Accept': 'text/plain'}\n",
    "\n",
    "dados = requests.post(url, data=json.dumps(pay_load), headers=headers)\n",
    "\n",
    "dicionario = json.loads(dados.text)\n",
    "\n",
    "for entrada in dicionario['Game Ranking']:\n",
    "    for usuario in [entrada]:\n",
    "        print('User:', str(usuario.get('User')))\n",
    "        print('Score:', str(usuario.get('Score')))\n",
    "        print(\"\")"
   ]
  },
  {
   "cell_type": "code",
   "execution_count": null,
   "metadata": {},
   "outputs": [],
   "source": []
  }
 ],
 "metadata": {
  "kernelspec": {
   "display_name": "Python 3",
   "language": "python",
   "name": "python3"
  },
  "language_info": {
   "codemirror_mode": {
    "name": "ipython",
    "version": 3
   },
   "file_extension": ".py",
   "mimetype": "text/x-python",
   "name": "python",
   "nbconvert_exporter": "python",
   "pygments_lexer": "ipython3",
   "version": "3.6.9"
  }
 },
 "nbformat": 4,
 "nbformat_minor": 4
}
